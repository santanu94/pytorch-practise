{
 "cells": [
  {
   "cell_type": "code",
   "execution_count": 1,
   "metadata": {
    "colab": {
     "base_uri": "https://localhost:8080/"
    },
    "id": "LVQ-EpNCyc1o",
    "outputId": "f6c0f72a-e8bd-438f-c383-20d8300313cb"
   },
   "outputs": [
    {
     "name": "stdout",
     "output_type": "stream",
     "text": [
      "Mounted at /gdrive\n",
      "/gdrive/MyDrive/Colab Notebooks/Question Tagging\n"
     ]
    }
   ],
   "source": [
    "from google.colab import drive\n",
    "drive.mount('/gdrive')\n",
    "%cd /gdrive/MyDrive/Colab\\ Notebooks/Question\\ Tagging"
   ]
  },
  {
   "cell_type": "code",
   "execution_count": 2,
   "metadata": {
    "id": "V-BR7cbsylW7"
   },
   "outputs": [],
   "source": [
    "import pandas as pd\n",
    "import numpy as np\n",
    "from collections import Counter\n",
    "import torch\n",
    "import torch.nn as nn\n",
    "from torch.optim import Adam\n",
    "from torch.optim.lr_scheduler import OneCycleLR\n",
    "from torchtext.vocab import Vocab\n",
    "from torch.utils.data import Dataset, DataLoader\n",
    "from sklearn.preprocessing import MultiLabelBinarizer\n",
    "from sklearn.metrics import f1_score, classification_report\n",
    "import pickle\n",
    "import re"
   ]
  },
  {
   "cell_type": "code",
   "execution_count": 3,
   "metadata": {
    "id": "uPortM4viPLh"
   },
   "outputs": [],
   "source": [
    "num_workers = 2\n",
    "SEQ_LEN = 128\n",
    "BATCH_SIZE = 32"
   ]
  },
  {
   "cell_type": "markdown",
   "metadata": {
    "id": "JnN8SLage54A"
   },
   "source": [
    "## Prepare Data (Train/Test Split)"
   ]
  },
  {
   "cell_type": "code",
   "execution_count": 4,
   "metadata": {
    "colab": {
     "base_uri": "https://localhost:8080/",
     "height": 206
    },
    "id": "ql4-KSg6-DxW",
    "outputId": "c8ec3b89-ea1e-45e8-e701-c70801276a86"
   },
   "outputs": [
    {
     "data": {
      "text/html": [
       "<div>\n",
       "<style scoped>\n",
       "    .dataframe tbody tr th:only-of-type {\n",
       "        vertical-align: middle;\n",
       "    }\n",
       "\n",
       "    .dataframe tbody tr th {\n",
       "        vertical-align: top;\n",
       "    }\n",
       "\n",
       "    .dataframe thead th {\n",
       "        text-align: right;\n",
       "    }\n",
       "</style>\n",
       "<table border=\"1\" class=\"dataframe\">\n",
       "  <thead>\n",
       "    <tr style=\"text-align: right;\">\n",
       "      <th></th>\n",
       "      <th>Body</th>\n",
       "      <th>Tags</th>\n",
       "    </tr>\n",
       "  </thead>\n",
       "  <tbody>\n",
       "    <tr>\n",
       "      <th>0</th>\n",
       "      <td>asp.net site maps has anyone got experience cr...</td>\n",
       "      <td>sql,asp.net</td>\n",
       "    </tr>\n",
       "    <tr>\n",
       "      <th>1</th>\n",
       "      <td>adding scripting functionality to .net applica...</td>\n",
       "      <td>c#,.net</td>\n",
       "    </tr>\n",
       "    <tr>\n",
       "      <th>2</th>\n",
       "      <td>should i use nested classes in this case? i am...</td>\n",
       "      <td>c++</td>\n",
       "    </tr>\n",
       "    <tr>\n",
       "      <th>3</th>\n",
       "      <td>homegrown consumption of web services i've bee...</td>\n",
       "      <td>.net</td>\n",
       "    </tr>\n",
       "    <tr>\n",
       "      <th>4</th>\n",
       "      <td>automatically update version number i would li...</td>\n",
       "      <td>c#</td>\n",
       "    </tr>\n",
       "  </tbody>\n",
       "</table>\n",
       "</div>"
      ],
      "text/plain": [
       "                                                Body         Tags\n",
       "0  asp.net site maps has anyone got experience cr...  sql,asp.net\n",
       "1  adding scripting functionality to .net applica...      c#,.net\n",
       "2  should i use nested classes in this case? i am...          c++\n",
       "3  homegrown consumption of web services i've bee...         .net\n",
       "4  automatically update version number i would li...           c#"
      ]
     },
     "execution_count": 4,
     "metadata": {
      "tags": []
     },
     "output_type": "execute_result"
    }
   ],
   "source": [
    "dataset = pd.read_csv('processed_data.csv')\n",
    "dataset.head()"
   ]
  },
  {
   "cell_type": "code",
   "execution_count": 5,
   "metadata": {
    "colab": {
     "base_uri": "https://localhost:8080/",
     "height": 206
    },
    "id": "awhyzr-rYUak",
    "outputId": "2a5e7281-2402-4735-c391-c1d6dfcd86f6"
   },
   "outputs": [
    {
     "data": {
      "text/html": [
       "<div>\n",
       "<style scoped>\n",
       "    .dataframe tbody tr th:only-of-type {\n",
       "        vertical-align: middle;\n",
       "    }\n",
       "\n",
       "    .dataframe tbody tr th {\n",
       "        vertical-align: top;\n",
       "    }\n",
       "\n",
       "    .dataframe thead th {\n",
       "        text-align: right;\n",
       "    }\n",
       "</style>\n",
       "<table border=\"1\" class=\"dataframe\">\n",
       "  <thead>\n",
       "    <tr style=\"text-align: right;\">\n",
       "      <th></th>\n",
       "      <th>Body</th>\n",
       "      <th>Tags</th>\n",
       "    </tr>\n",
       "  </thead>\n",
       "  <tbody>\n",
       "    <tr>\n",
       "      <th>0</th>\n",
       "      <td>how to show a part of a string that starts wit...</td>\n",
       "      <td>php</td>\n",
       "    </tr>\n",
       "    <tr>\n",
       "      <th>1</th>\n",
       "      <td>leaflet - add features to a json object and pu...</td>\n",
       "      <td>javascript</td>\n",
       "    </tr>\n",
       "    <tr>\n",
       "      <th>2</th>\n",
       "      <td>browser javascript compliant system level js e...</td>\n",
       "      <td>javascript</td>\n",
       "    </tr>\n",
       "    <tr>\n",
       "      <th>3</th>\n",
       "      <td>need help mapping this data in java i am havin...</td>\n",
       "      <td>java</td>\n",
       "    </tr>\n",
       "    <tr>\n",
       "      <th>4</th>\n",
       "      <td>itextsharp measure chunk width / height i am t...</td>\n",
       "      <td>c#</td>\n",
       "    </tr>\n",
       "  </tbody>\n",
       "</table>\n",
       "</div>"
      ],
      "text/plain": [
       "                                                Body        Tags\n",
       "0  how to show a part of a string that starts wit...         php\n",
       "1  leaflet - add features to a json object and pu...  javascript\n",
       "2  browser javascript compliant system level js e...  javascript\n",
       "3  need help mapping this data in java i am havin...        java\n",
       "4  itextsharp measure chunk width / height i am t...          c#"
      ]
     },
     "execution_count": 5,
     "metadata": {
      "tags": []
     },
     "output_type": "execute_result"
    }
   ],
   "source": [
    "dataset = dataset.sample(frac=1, random_state=7).reset_index(drop=True)\n",
    "dataset.head()"
   ]
  },
  {
   "cell_type": "code",
   "execution_count": 6,
   "metadata": {
    "colab": {
     "base_uri": "https://localhost:8080/"
    },
    "id": "eSn_qM7iZIVE",
    "outputId": "6b0820c4-9c52-4d9f-931b-44f5ea85c9ec"
   },
   "outputs": [
    {
     "data": {
      "text/plain": [
       "((680790, 2), (170198, 2))"
      ]
     },
     "execution_count": 6,
     "metadata": {
      "tags": []
     },
     "output_type": "execute_result"
    }
   ],
   "source": [
    "# Taking 20% as validation set\n",
    "split_idx = int(dataset.shape[0]*0.8)\n",
    "train_df = dataset.iloc[:split_idx]\n",
    "val_df = dataset.iloc[split_idx:]\n",
    "\n",
    "train_df.shape, val_df.shape"
   ]
  },
  {
   "cell_type": "markdown",
   "metadata": {
    "id": "PTxFn98pfCQv"
   },
   "source": [
    "## Create Vocabulary"
   ]
  },
  {
   "cell_type": "code",
   "execution_count": 7,
   "metadata": {
    "id": "ZX65-sBMIOUp"
   },
   "outputs": [],
   "source": [
    "def get_tag_list(tags):\n",
    "    return tags.split(\",\")"
   ]
  },
  {
   "cell_type": "code",
   "execution_count": 8,
   "metadata": {
    "id": "lYA6KwW6FMRT"
   },
   "outputs": [],
   "source": [
    "def tokenize(text):\n",
    "    text = re.sub('[^a-zA-Z]', ' ', text)\n",
    "    return text.split()"
   ]
  },
  {
   "cell_type": "code",
   "execution_count": 9,
   "metadata": {
    "id": "ExWkdbGx_9rY"
   },
   "outputs": [],
   "source": [
    "counter = Counter()\n",
    "for body in train_df['Body'].values:\n",
    "    counter.update(tokenize(body))\n",
    "vocab = Vocab(counter=counter, max_size=10000, min_freq=3)"
   ]
  },
  {
   "cell_type": "code",
   "execution_count": 10,
   "metadata": {
    "colab": {
     "base_uri": "https://localhost:8080/"
    },
    "id": "TdG9gnwLB23g",
    "outputId": "0af54726-769c-4274-922d-4caa06148a9f"
   },
   "outputs": [
    {
     "name": "stdout",
     "output_type": "stream",
     "text": [
      "[453, 936, 57, 7, 139]\n",
      "['<unk>', '<pad>', 'the', 'gt', 'i', 'lt', 'to', 'a', 'is', 'in']\n"
     ]
    }
   ],
   "source": [
    "# test vocab\n",
    "print([vocab[token] for token in ['let', 'us', 'do', 'a', 'test']])\n",
    "print(vocab.itos[:10])"
   ]
  },
  {
   "cell_type": "code",
   "execution_count": 11,
   "metadata": {
    "colab": {
     "base_uri": "https://localhost:8080/"
    },
    "id": "ZODlNRVKUkj-",
    "outputId": "f4849acf-a810-40c0-f36c-c728cf1c0406"
   },
   "outputs": [
    {
     "data": {
      "text/plain": [
       "1"
      ]
     },
     "execution_count": 11,
     "metadata": {
      "tags": []
     },
     "output_type": "execute_result"
    }
   ],
   "source": [
    "PAD_IDX = vocab['<pad>']\n",
    "PAD_IDX"
   ]
  },
  {
   "cell_type": "code",
   "execution_count": 12,
   "metadata": {
    "id": "mNSI5dOxaDEo"
   },
   "outputs": [],
   "source": [
    "train_df.to_csv('train.csv', index=False)\n",
    "val_df.to_csv('val.csv', index=False)\n",
    "\n",
    "del dataset, train_df, val_df"
   ]
  },
  {
   "cell_type": "markdown",
   "metadata": {
    "id": "5Jogcmnxdwrr"
   },
   "source": [
    "## Dataset"
   ]
  },
  {
   "cell_type": "code",
   "execution_count": 13,
   "metadata": {
    "id": "bbCCcrEJEi5e"
   },
   "outputs": [],
   "source": [
    "class StackDataset(Dataset):\n",
    "    def __init__(self, dataset, tags_pkl, seq_len):\n",
    "        with open(tags_pkl, 'rb') as f:\n",
    "            all_tags = pickle.load(f)\n",
    "        \n",
    "        self.dataset = pd.read_csv(dataset)\n",
    "        self.mlb = MultiLabelBinarizer()\n",
    "        self.mlb.fit([all_tags])\n",
    "        self.seq_len = seq_len\n",
    "    \n",
    "    def __getitem__(self, index):\n",
    "        body, tags = self.dataset.iloc[index]\n",
    "\n",
    "        num_body_list = [vocab[token] for token in tokenize(body)][:self.seq_len]\n",
    "        num_body_list += [PAD_IDX]*(SEQ_LEN - len(num_body_list))  # Better alternative over pad_sequence\n",
    "        one_hot_tags = self.mlb.transform([get_tag_list(tags)])\n",
    "\n",
    "        return torch.tensor(num_body_list), torch.FloatTensor(one_hot_tags).squeeze()  # Added squeeze as mlb.transform -> [[0, 0, ..., 1]]\n",
    "    \n",
    "    def __len__(self):\n",
    "        return self.dataset.shape[0]"
   ]
  },
  {
   "cell_type": "code",
   "execution_count": 14,
   "metadata": {
    "id": "dx_KdE0RukSb"
   },
   "outputs": [],
   "source": [
    "# def collate_fn(batch_data):\n",
    "#     x, y = [], []\n",
    "#     for body_list, one_hot_tags in batch_data:\n",
    "#         x.append(body_list)\n",
    "#         y.append(one_hot_tags)\n",
    "#     x = pad_sequence(x, batch_first=True, padding_value=PAD_IDX)\n",
    "#     y = torch.cat(y, dim=0)\n",
    "\n",
    "#     return x, y"
   ]
  },
  {
   "cell_type": "code",
   "execution_count": 15,
   "metadata": {
    "id": "xz2jbl-CRSWH"
   },
   "outputs": [],
   "source": [
    "train_ds = StackDataset(dataset='train.csv', tags_pkl='top_k_tags.pkl', seq_len=SEQ_LEN)\n",
    "val_ds = StackDataset(dataset='val.csv', tags_pkl='top_k_tags.pkl', seq_len=SEQ_LEN)\n",
    "\n",
    "train_dl = DataLoader(train_ds, batch_size=BATCH_SIZE, shuffle=True, num_workers=num_workers)\n",
    "val_dl = DataLoader(val_ds, batch_size=BATCH_SIZE*4, num_workers=num_workers)"
   ]
  },
  {
   "cell_type": "markdown",
   "metadata": {
    "id": "Vn5BPnSseHP3"
   },
   "source": [
    "## Models"
   ]
  },
  {
   "cell_type": "code",
   "execution_count": 16,
   "metadata": {
    "id": "VwH1UYM-TW7S"
   },
   "outputs": [],
   "source": [
    "class RNNModel(nn.Module):\n",
    "    def __init__(self, vocab_len, emb_size):\n",
    "        super(RNNModel, self).__init__()\n",
    "        self.emb_layer = nn.Embedding(num_embeddings=vocab_len, embedding_dim=emb_size, padding_idx=PAD_IDX)\n",
    "        self.rnn_layer = nn.RNN(input_size=emb_size, hidden_size=24, batch_first=True)\n",
    "        self.linear_layer = nn.Sequential(\n",
    "            nn.Linear(in_features=3072, out_features=100),\n",
    "            nn.ReLU(),\n",
    "            nn.Linear(in_features=100, out_features=20)\n",
    "        )\n",
    "    \n",
    "    def forward(self, x):\n",
    "        bs = x.shape[0]\n",
    "\n",
    "        out = self.emb_layer(x)\n",
    "        hidden_states, last_hidden_state = self.rnn_layer(out)\n",
    "        out = self.linear_layer(hidden_states.reshape(bs, -1))\n",
    "\n",
    "        return out"
   ]
  },
  {
   "cell_type": "code",
   "execution_count": 17,
   "metadata": {
    "id": "g5cB9kZKuMj8"
   },
   "outputs": [],
   "source": [
    "class LSTMModel(nn.Module):\n",
    "    def __init__(self, vocab_len, emb_size):\n",
    "        super(LSTMModel, self).__init__()\n",
    "        self.emb_layer = nn.Embedding(num_embeddings=vocab_len, embedding_dim=emb_size, padding_idx=PAD_IDX)\n",
    "        self.lstm_layer = nn.LSTM(input_size=emb_size, hidden_size=24, batch_first=True)\n",
    "        self.linear_layer = nn.Sequential(\n",
    "            nn.Linear(in_features=3072, out_features=100),\n",
    "            nn.ReLU(),\n",
    "            nn.Linear(in_features=100, out_features=20)\n",
    "        )\n",
    "    \n",
    "    def forward(self, x):\n",
    "        bs = x.shape[0]\n",
    "\n",
    "        out = self.emb_layer(x)\n",
    "        hidden_states, (last_hidden_state, last_cell_state) = self.lstm_layer(out)\n",
    "        out = self.linear_layer(hidden_states.reshape(bs, -1))\n",
    "\n",
    "        return out"
   ]
  },
  {
   "cell_type": "markdown",
   "metadata": {
    "id": "DH_E398eeLFE"
   },
   "source": [
    "## Training"
   ]
  },
  {
   "cell_type": "code",
   "execution_count": 18,
   "metadata": {
    "id": "eCW5mxPKtI1B"
   },
   "outputs": [],
   "source": [
    "def fit(model, epochs, lr):\n",
    "    loss_fn = nn.BCEWithLogitsLoss()\n",
    "    opt = Adam(model.parameters(), lr=lr)\n",
    "    scd = OneCycleLR(optimizer=opt, max_lr=lr, epochs=epochs, steps_per_epoch=len(train_dl))\n",
    "\n",
    "    best_loss = None\n",
    "    for epoch in range(epochs):\n",
    "        epoch_train_loss = torch.empty(0, device=torch.device('cuda'))\n",
    "        epoch_val_loss = torch.empty(0, device=torch.device('cuda'))\n",
    "\n",
    "        model.train()\n",
    "        for xb, yb in train_dl:\n",
    "            xb = xb.to('cuda')\n",
    "            yb = yb.to('cuda')\n",
    "\n",
    "            y_hat = model(xb)\n",
    "            loss = loss_fn(y_hat, yb)\n",
    "            \n",
    "            opt.zero_grad()\n",
    "            loss.backward()\n",
    "            opt.step()\n",
    "            scd.step()\n",
    "\n",
    "            epoch_train_loss = torch.cat((epoch_train_loss, loss.detach().view(1, -1)), dim=0)\n",
    "        epoch_train_loss = torch.mean(epoch_train_loss).item()\n",
    "        \n",
    "        model.eval()\n",
    "        with torch.no_grad():\n",
    "            for xb, yb in val_dl:\n",
    "                xb = xb.to('cuda')\n",
    "                yb = yb.to('cuda')\n",
    "\n",
    "                y_hat = model(xb)\n",
    "                loss = loss_fn(y_hat, yb)\n",
    "\n",
    "                epoch_val_loss = torch.cat((epoch_val_loss, loss.detach().view(1, -1)), dim=0)\n",
    "            epoch_val_loss = torch.mean(epoch_val_loss).item()\n",
    "        \n",
    "        print(f'Epoch - {epoch+1} | Training Loss - {epoch_train_loss} | Validation Loss - {epoch_val_loss}')\n",
    "\n",
    "        if best_loss is None or best_loss >= epoch_val_loss:\n",
    "            best_loss = epoch_val_loss\n",
    "            torch.save(model.state_dict(), 'bestmodel.pth')\n",
    "            print('##### Model Saved #####')"
   ]
  },
  {
   "cell_type": "code",
   "execution_count": 19,
   "metadata": {
    "colab": {
     "base_uri": "https://localhost:8080/"
    },
    "id": "DRCM4HYisDB-",
    "outputId": "8429e28e-e330-4918-da7c-e81ea3d6a089"
   },
   "outputs": [
    {
     "name": "stdout",
     "output_type": "stream",
     "text": [
      "Epoch - 1 | Training Loss - 0.11682187020778656 | Validation Loss - 0.09313584864139557\n",
      "##### Model Saved #####\n",
      "Epoch - 2 | Training Loss - 0.09462526440620422 | Validation Loss - 0.0988205224275589\n",
      "Epoch - 3 | Training Loss - 0.11513382941484451 | Validation Loss - 0.13152840733528137\n",
      "Epoch - 4 | Training Loss - 0.1280064582824707 | Validation Loss - 0.14458714425563812\n",
      "Epoch - 5 | Training Loss - 0.13716241717338562 | Validation Loss - 0.14263316988945007\n",
      "Epoch - 6 | Training Loss - 0.1368151158094406 | Validation Loss - 0.14493189752101898\n",
      "Epoch - 7 | Training Loss - 0.13543705642223358 | Validation Loss - 0.12936940789222717\n",
      "Epoch - 8 | Training Loss - 0.1304890662431717 | Validation Loss - 0.12918107211589813\n",
      "Epoch - 9 | Training Loss - 0.1218632161617279 | Validation Loss - 0.11735323816537857\n",
      "Epoch - 10 | Training Loss - 0.11502587050199509 | Validation Loss - 0.11444493383169174\n",
      "Epoch - 11 | Training Loss - 0.10823406279087067 | Validation Loss - 0.10542134195566177\n",
      "Epoch - 12 | Training Loss - 0.10292046517133713 | Validation Loss - 0.10285231471061707\n",
      "Epoch - 13 | Training Loss - 0.09812583029270172 | Validation Loss - 0.09902942925691605\n",
      "Epoch - 14 | Training Loss - 0.09457017481327057 | Validation Loss - 0.09714806079864502\n",
      "Epoch - 15 | Training Loss - 0.09261268377304077 | Validation Loss - 0.09666965156793594\n"
     ]
    },
    {
     "data": {
      "text/plain": [
       "<All keys matched successfully>"
      ]
     },
     "execution_count": 19,
     "metadata": {
      "tags": []
     },
     "output_type": "execute_result"
    }
   ],
   "source": [
    "epochs = 15\n",
    "lr = 1e-02\n",
    "\n",
    "rnn_model = RNNModel(len(vocab), emb_size=50).to('cuda')\n",
    "fit(rnn_model, epochs, lr)\n",
    "rnn_model.load_state_dict(torch.load('bestmodel.pth'))"
   ]
  },
  {
   "cell_type": "code",
   "execution_count": 20,
   "metadata": {
    "colab": {
     "base_uri": "https://localhost:8080/"
    },
    "id": "XfoTUxhEzHGP",
    "outputId": "d7e6a772-c0d6-41d0-d231-e99beaefc07c"
   },
   "outputs": [
    {
     "name": "stdout",
     "output_type": "stream",
     "text": [
      "Epoch - 1 | Training Loss - 0.09844035655260086 | Validation Loss - 0.0753697007894516\n",
      "##### Model Saved #####\n",
      "Epoch - 2 | Training Loss - 0.0732794925570488 | Validation Loss - 0.07330222427845001\n",
      "##### Model Saved #####\n",
      "Epoch - 3 | Training Loss - 0.07142305374145508 | Validation Loss - 0.07137303054332733\n",
      "##### Model Saved #####\n",
      "Epoch - 4 | Training Loss - 0.07201459258794785 | Validation Loss - 0.07366851717233658\n",
      "Epoch - 5 | Training Loss - 0.07495749741792679 | Validation Loss - 0.07398997992277145\n",
      "Epoch - 6 | Training Loss - 0.07575125992298126 | Validation Loss - 0.07630888372659683\n",
      "Epoch - 7 | Training Loss - 0.6256407499313354 | Validation Loss - 0.2548969089984894\n",
      "Epoch - 8 | Training Loss - 0.22388818860054016 | Validation Loss - 0.21727341413497925\n",
      "Epoch - 9 | Training Loss - 0.20260865986347198 | Validation Loss - 0.19688794016838074\n",
      "Epoch - 10 | Training Loss - 0.19538144767284393 | Validation Loss - 0.19625239074230194\n",
      "Epoch - 11 | Training Loss - 0.19512306153774261 | Validation Loss - 0.19479849934577942\n",
      "Epoch - 12 | Training Loss - 0.1922796368598938 | Validation Loss - 0.19327768683433533\n",
      "Epoch - 13 | Training Loss - 0.18978621065616608 | Validation Loss - 0.19011475145816803\n",
      "Epoch - 14 | Training Loss - 0.18956658244132996 | Validation Loss - 0.18921861052513123\n",
      "Epoch - 15 | Training Loss - 0.18844091892242432 | Validation Loss - 0.18876349925994873\n"
     ]
    },
    {
     "data": {
      "text/plain": [
       "<All keys matched successfully>"
      ]
     },
     "execution_count": 20,
     "metadata": {
      "tags": []
     },
     "output_type": "execute_result"
    }
   ],
   "source": [
    "epochs = 15\n",
    "lr = 1e-02\n",
    "\n",
    "lstm_model = LSTMModel(len(vocab), emb_size=50).to('cuda')\n",
    "fit(lstm_model, epochs, lr)\n",
    "lstm_model.load_state_dict(torch.load('bestmodel.pth'))"
   ]
  },
  {
   "cell_type": "markdown",
   "metadata": {
    "id": "R2024jK5eXsP"
   },
   "source": [
    "## Evaluate Model"
   ]
  },
  {
   "cell_type": "code",
   "execution_count": 21,
   "metadata": {
    "id": "AyTyQVuo0q2O"
   },
   "outputs": [],
   "source": [
    "def get_pred(model, dl, threshold):\n",
    "    y_hat = torch.empty(0)\n",
    "    y_true = torch.empty(0)\n",
    "    model.eval()\n",
    "    with torch.no_grad():\n",
    "        for xb, yb in dl:\n",
    "            y_true = torch.cat([y_true, yb], dim=0)\n",
    "\n",
    "            xb = xb.to('cuda')\n",
    "            yb = yb.to('cuda')\n",
    "\n",
    "            y_hat = torch.cat([y_hat, torch.where(nn.Sigmoid()(model(xb)) >= threshold, 1, 0).cpu()], dim=0)\n",
    "    return y_hat.numpy(), y_true.numpy() # shape - (x, 20), where x is number of rows"
   ]
  },
  {
   "cell_type": "code",
   "execution_count": 22,
   "metadata": {
    "id": "0apf-fuz7Z5B"
   },
   "outputs": [],
   "source": [
    "def get_optimal_threshold(model):\n",
    "    thresholds = np.arange(0.1, 1, 0.1)\n",
    "    scores = []\n",
    "\n",
    "    for thres in thresholds:\n",
    "        y_pred, y_true = get_pred(model, val_dl, threshold=thres)\n",
    "\n",
    "        y_pred = y_pred.ravel()\n",
    "        y_true = y_true.ravel()\n",
    "\n",
    "        scores.append(f1_score(y_true, y_pred))\n",
    "\n",
    "    opt = thresholds[scores.index(max(scores))]\n",
    "    return opt"
   ]
  },
  {
   "cell_type": "code",
   "execution_count": 23,
   "metadata": {
    "colab": {
     "base_uri": "https://localhost:8080/"
    },
    "id": "Qy7Y88OlEVvI",
    "outputId": "28ab7d20-53d8-462d-c703-c8485b5620a5"
   },
   "outputs": [
    {
     "name": "stdout",
     "output_type": "stream",
     "text": [
      "0.4\n"
     ]
    }
   ],
   "source": [
    "opt_rnn = get_optimal_threshold(rnn_model)\n",
    "print(opt_rnn)"
   ]
  },
  {
   "cell_type": "code",
   "execution_count": 24,
   "metadata": {
    "colab": {
     "base_uri": "https://localhost:8080/"
    },
    "id": "1idfKbRTVUdY",
    "outputId": "b5f7d627-671e-44f5-d43f-a1f6975c212d"
   },
   "outputs": [
    {
     "name": "stdout",
     "output_type": "stream",
     "text": [
      "              precision    recall  f1-score   support\n",
      "\n",
      "           0       0.40      0.09      0.15      4836\n",
      "           1       0.93      0.86      0.90     17969\n",
      "           2       0.93      0.75      0.83      4036\n",
      "           3       0.72      0.51      0.60      5886\n",
      "           4       0.86      0.24      0.37      4739\n",
      "           5       0.72      0.71      0.71     20070\n",
      "           6       0.68      0.66      0.67      9480\n",
      "           7       0.64      0.76      0.70      8361\n",
      "           8       0.50      0.56      0.53     11770\n",
      "           9       0.70      0.76      0.73      9441\n",
      "          10       0.52      0.24      0.33      4341\n",
      "          11       0.77      0.79      0.78     23057\n",
      "          12       0.69      0.70      0.70     24819\n",
      "          13       0.77      0.67      0.72     15795\n",
      "          14       0.60      0.76      0.67      8408\n",
      "          15       0.59      0.22      0.32      5441\n",
      "          16       0.90      0.75      0.82     19955\n",
      "          17       0.86      0.87      0.86     13017\n",
      "          18       0.92      0.77      0.84      5195\n",
      "          19       0.73      0.58      0.65      7093\n",
      "\n",
      "   micro avg       0.74      0.68      0.71    223709\n",
      "   macro avg       0.72      0.61      0.64    223709\n",
      "weighted avg       0.74      0.68      0.70    223709\n",
      " samples avg       0.71      0.72      0.69    223709\n",
      "\n"
     ]
    },
    {
     "name": "stderr",
     "output_type": "stream",
     "text": [
      "/usr/local/lib/python3.7/dist-packages/sklearn/metrics/_classification.py:1272: UndefinedMetricWarning: Precision and F-score are ill-defined and being set to 0.0 in samples with no predicted labels. Use `zero_division` parameter to control this behavior.\n",
      "  _warn_prf(average, modifier, msg_start, len(result))\n"
     ]
    }
   ],
   "source": [
    "y_pred, y_true = get_pred(rnn_model, val_dl, threshold=opt_rnn)\n",
    "print(classification_report(y_true, y_pred))"
   ]
  },
  {
   "cell_type": "code",
   "execution_count": 25,
   "metadata": {
    "colab": {
     "base_uri": "https://localhost:8080/"
    },
    "id": "3LcMxsIM7ZFs",
    "outputId": "6eec07b0-dd0c-488e-ca8c-69162fc50556"
   },
   "outputs": [
    {
     "name": "stdout",
     "output_type": "stream",
     "text": [
      "0.4\n"
     ]
    }
   ],
   "source": [
    "opt_lstm = get_optimal_threshold(lstm_model)\n",
    "print(opt_lstm)"
   ]
  },
  {
   "cell_type": "code",
   "execution_count": 26,
   "metadata": {
    "colab": {
     "base_uri": "https://localhost:8080/"
    },
    "id": "jA4SW3De7gq1",
    "outputId": "1f93a8bd-2969-4d06-8d77-2f7dac593259"
   },
   "outputs": [
    {
     "name": "stdout",
     "output_type": "stream",
     "text": [
      "              precision    recall  f1-score   support\n",
      "\n",
      "           0       0.65      0.12      0.20      4836\n",
      "           1       0.94      0.92      0.93     17969\n",
      "           2       0.95      0.87      0.91      4036\n",
      "           3       0.81      0.58      0.68      5886\n",
      "           4       0.71      0.70      0.70      4739\n",
      "           5       0.75      0.82      0.78     20070\n",
      "           6       0.83      0.71      0.77      9480\n",
      "           7       0.78      0.75      0.76      8361\n",
      "           8       0.62      0.49      0.55     11770\n",
      "           9       0.72      0.87      0.79      9441\n",
      "          10       0.67      0.40      0.50      4341\n",
      "          11       0.90      0.80      0.84     23057\n",
      "          12       0.68      0.85      0.75     24819\n",
      "          13       0.83      0.75      0.79     15795\n",
      "          14       0.78      0.74      0.76      8408\n",
      "          15       0.59      0.57      0.58      5441\n",
      "          16       0.89      0.86      0.87     19955\n",
      "          17       0.96      0.90      0.93     13017\n",
      "          18       0.95      0.88      0.92      5195\n",
      "          19       0.76      0.64      0.70      7093\n",
      "\n",
      "   micro avg       0.80      0.76      0.78    223709\n",
      "   macro avg       0.79      0.71      0.73    223709\n",
      "weighted avg       0.80      0.76      0.77    223709\n",
      " samples avg       0.80      0.81      0.78    223709\n",
      "\n"
     ]
    },
    {
     "name": "stderr",
     "output_type": "stream",
     "text": [
      "/usr/local/lib/python3.7/dist-packages/sklearn/metrics/_classification.py:1272: UndefinedMetricWarning: Precision and F-score are ill-defined and being set to 0.0 in samples with no predicted labels. Use `zero_division` parameter to control this behavior.\n",
      "  _warn_prf(average, modifier, msg_start, len(result))\n"
     ]
    }
   ],
   "source": [
    "y_pred, y_true = get_pred(lstm_model, val_dl, threshold=opt_lstm)\n",
    "print(classification_report(y_true, y_pred))"
   ]
  },
  {
   "cell_type": "markdown",
   "metadata": {
    "id": "WiOkJwMtey-d"
   },
   "source": [
    "## Inference"
   ]
  },
  {
   "cell_type": "code",
   "execution_count": 27,
   "metadata": {
    "id": "TsKio8ngXBGT"
   },
   "outputs": [],
   "source": [
    "def predict(model, text, threshold=0.5):\n",
    "    text = [vocab[token] for token in tokenize(text)][:SEQ_LEN]\n",
    "    text += [PAD_IDX]*(SEQ_LEN - len(text))\n",
    "    text_tensor = torch.tensor(text, device=torch.device('cuda'))\n",
    "    text_tensor = text_tensor.view(1, -1)\n",
    "    \n",
    "    model.eval()\n",
    "    with torch.no_grad():\n",
    "        y_hat = model(text_tensor)\n",
    "        y_hat = torch.where(nn.Sigmoid()(y_hat) >= threshold, 1, 0)\n",
    "        y_hat = y_hat.detach().cpu().numpy()\n",
    "\n",
    "    pred_tags_list = train_ds.mlb.inverse_transform(y_hat)\n",
    "\n",
    "    return ','.join(pred_tags_list[0])"
   ]
  },
  {
   "cell_type": "code",
   "execution_count": 28,
   "metadata": {
    "colab": {
     "base_uri": "https://localhost:8080/",
     "height": 206
    },
    "id": "EGbe53yOAI27",
    "outputId": "6cf938df-3fb8-42af-bc34-85c1167ae1f7"
   },
   "outputs": [
    {
     "data": {
      "text/html": [
       "<div>\n",
       "<style scoped>\n",
       "    .dataframe tbody tr th:only-of-type {\n",
       "        vertical-align: middle;\n",
       "    }\n",
       "\n",
       "    .dataframe tbody tr th {\n",
       "        vertical-align: top;\n",
       "    }\n",
       "\n",
       "    .dataframe thead th {\n",
       "        text-align: right;\n",
       "    }\n",
       "</style>\n",
       "<table border=\"1\" class=\"dataframe\">\n",
       "  <thead>\n",
       "    <tr style=\"text-align: right;\">\n",
       "      <th></th>\n",
       "      <th>Body</th>\n",
       "      <th>Tags</th>\n",
       "    </tr>\n",
       "  </thead>\n",
       "  <tbody>\n",
       "    <tr>\n",
       "      <th>0</th>\n",
       "      <td>custom seekbar thumb not transparent on lollip...</td>\n",
       "      <td>android</td>\n",
       "    </tr>\n",
       "    <tr>\n",
       "      <th>1</th>\n",
       "      <td>jaxb inheritance - non-abstract base class i'm...</td>\n",
       "      <td>java</td>\n",
       "    </tr>\n",
       "    <tr>\n",
       "      <th>2</th>\n",
       "      <td>sencha touch list with model and store i am lo...</td>\n",
       "      <td>javascript</td>\n",
       "    </tr>\n",
       "    <tr>\n",
       "      <th>3</th>\n",
       "      <td>\"flattening\" a list of dictionaries so my aim ...</td>\n",
       "      <td>python</td>\n",
       "    </tr>\n",
       "    <tr>\n",
       "      <th>4</th>\n",
       "      <td>snmpwalk can't walk table with \"accessible-for...</td>\n",
       "      <td>c</td>\n",
       "    </tr>\n",
       "  </tbody>\n",
       "</table>\n",
       "</div>"
      ],
      "text/plain": [
       "                                                Body        Tags\n",
       "0  custom seekbar thumb not transparent on lollip...     android\n",
       "1  jaxb inheritance - non-abstract base class i'm...        java\n",
       "2  sencha touch list with model and store i am lo...  javascript\n",
       "3  \"flattening\" a list of dictionaries so my aim ...      python\n",
       "4  snmpwalk can't walk table with \"accessible-for...           c"
      ]
     },
     "execution_count": 28,
     "metadata": {
      "tags": []
     },
     "output_type": "execute_result"
    }
   ],
   "source": [
    "df = pd.read_csv('val.csv')\n",
    "df.head()"
   ]
  },
  {
   "cell_type": "code",
   "execution_count": 29,
   "metadata": {
    "colab": {
     "base_uri": "https://localhost:8080/",
     "height": 206
    },
    "id": "e_vie4AxAcyy",
    "outputId": "05f9983c-f44a-42e6-fcc4-83186107a060"
   },
   "outputs": [
    {
     "data": {
      "text/html": [
       "<div>\n",
       "<style scoped>\n",
       "    .dataframe tbody tr th:only-of-type {\n",
       "        vertical-align: middle;\n",
       "    }\n",
       "\n",
       "    .dataframe tbody tr th {\n",
       "        vertical-align: top;\n",
       "    }\n",
       "\n",
       "    .dataframe thead th {\n",
       "        text-align: right;\n",
       "    }\n",
       "</style>\n",
       "<table border=\"1\" class=\"dataframe\">\n",
       "  <thead>\n",
       "    <tr style=\"text-align: right;\">\n",
       "      <th></th>\n",
       "      <th>Body</th>\n",
       "      <th>Tags</th>\n",
       "    </tr>\n",
       "  </thead>\n",
       "  <tbody>\n",
       "    <tr>\n",
       "      <th>0</th>\n",
       "      <td>bootstrap list-items activating on embedded sp...</td>\n",
       "      <td>javascript,jquery,html,css</td>\n",
       "    </tr>\n",
       "    <tr>\n",
       "      <th>1</th>\n",
       "      <td>how can enable swipe image in slide by touch (...</td>\n",
       "      <td>javascript,jquery,html,css</td>\n",
       "    </tr>\n",
       "    <tr>\n",
       "      <th>2</th>\n",
       "      <td>how to use all php files in or outside folder ...</td>\n",
       "      <td>javascript,php,jquery,html,css</td>\n",
       "    </tr>\n",
       "    <tr>\n",
       "      <th>3</th>\n",
       "      <td>text appear below multi table cells after clic...</td>\n",
       "      <td>php,javascript,html,css</td>\n",
       "    </tr>\n",
       "    <tr>\n",
       "      <th>4</th>\n",
       "      <td>open new print dialog window with different ht...</td>\n",
       "      <td>javascript,jquery,html,css</td>\n",
       "    </tr>\n",
       "  </tbody>\n",
       "</table>\n",
       "</div>"
      ],
      "text/plain": [
       "                                                Body                            Tags\n",
       "0  bootstrap list-items activating on embedded sp...      javascript,jquery,html,css\n",
       "1  how can enable swipe image in slide by touch (...      javascript,jquery,html,css\n",
       "2  how to use all php files in or outside folder ...  javascript,php,jquery,html,css\n",
       "3  text appear below multi table cells after clic...         php,javascript,html,css\n",
       "4  open new print dialog window with different ht...      javascript,jquery,html,css"
      ]
     },
     "execution_count": 29,
     "metadata": {
      "tags": []
     },
     "output_type": "execute_result"
    }
   ],
   "source": [
    "df = df[df['Tags'].str.split(',').str.len() > 3][:5].reset_index(drop=True)\n",
    "df"
   ]
  },
  {
   "cell_type": "markdown",
   "metadata": {
    "id": "y1WwbUB7EdwE"
   },
   "source": [
    "Let us look at some predictions"
   ]
  },
  {
   "cell_type": "code",
   "execution_count": 30,
   "metadata": {
    "colab": {
     "base_uri": "https://localhost:8080/",
     "height": 206
    },
    "id": "8FQXbRu58Szw",
    "outputId": "aad50515-3c0e-4ae6-a7a9-2a2fb0e3956f"
   },
   "outputs": [
    {
     "data": {
      "text/html": [
       "<div>\n",
       "<style scoped>\n",
       "    .dataframe tbody tr th:only-of-type {\n",
       "        vertical-align: middle;\n",
       "    }\n",
       "\n",
       "    .dataframe tbody tr th {\n",
       "        vertical-align: top;\n",
       "    }\n",
       "\n",
       "    .dataframe thead th {\n",
       "        text-align: right;\n",
       "    }\n",
       "</style>\n",
       "<table border=\"1\" class=\"dataframe\">\n",
       "  <thead>\n",
       "    <tr style=\"text-align: right;\">\n",
       "      <th></th>\n",
       "      <th>Body</th>\n",
       "      <th>Tags</th>\n",
       "      <th>RNN Tags</th>\n",
       "      <th>LSTM Tags</th>\n",
       "    </tr>\n",
       "  </thead>\n",
       "  <tbody>\n",
       "    <tr>\n",
       "      <th>0</th>\n",
       "      <td>bootstrap list-items activating on embedded sp...</td>\n",
       "      <td>javascript,jquery,html,css</td>\n",
       "      <td>css,html</td>\n",
       "      <td>css,html,jquery</td>\n",
       "    </tr>\n",
       "    <tr>\n",
       "      <th>1</th>\n",
       "      <td>how can enable swipe image in slide by touch (...</td>\n",
       "      <td>javascript,jquery,html,css</td>\n",
       "      <td>javascript,jquery</td>\n",
       "      <td>javascript,jquery</td>\n",
       "    </tr>\n",
       "    <tr>\n",
       "      <th>2</th>\n",
       "      <td>how to use all php files in or outside folder ...</td>\n",
       "      <td>javascript,php,jquery,html,css</td>\n",
       "      <td>php</td>\n",
       "      <td>php</td>\n",
       "    </tr>\n",
       "    <tr>\n",
       "      <th>3</th>\n",
       "      <td>text appear below multi table cells after clic...</td>\n",
       "      <td>php,javascript,html,css</td>\n",
       "      <td>html</td>\n",
       "      <td>css,html,javascript</td>\n",
       "    </tr>\n",
       "    <tr>\n",
       "      <th>4</th>\n",
       "      <td>open new print dialog window with different ht...</td>\n",
       "      <td>javascript,jquery,html,css</td>\n",
       "      <td>html,javascript,python</td>\n",
       "      <td>javascript</td>\n",
       "    </tr>\n",
       "  </tbody>\n",
       "</table>\n",
       "</div>"
      ],
      "text/plain": [
       "                                                Body  ...            LSTM Tags\n",
       "0  bootstrap list-items activating on embedded sp...  ...      css,html,jquery\n",
       "1  how can enable swipe image in slide by touch (...  ...    javascript,jquery\n",
       "2  how to use all php files in or outside folder ...  ...                  php\n",
       "3  text appear below multi table cells after clic...  ...  css,html,javascript\n",
       "4  open new print dialog window with different ht...  ...           javascript\n",
       "\n",
       "[5 rows x 4 columns]"
      ]
     },
     "execution_count": 30,
     "metadata": {
      "tags": []
     },
     "output_type": "execute_result"
    }
   ],
   "source": [
    "rnn_pred = []\n",
    "lstm_pred = []\n",
    "\n",
    "for idx, row in df.iterrows():\n",
    "    rnn_pred.append(predict(rnn_model, row['Body'], opt_rnn))\n",
    "    lstm_pred.append(predict(lstm_model, row['Body'], opt_lstm))\n",
    "\n",
    "df['RNN Tags'] = rnn_pred\n",
    "df['LSTM Tags'] = lstm_pred\n",
    "\n",
    "df"
   ]
  },
  {
   "cell_type": "markdown",
   "metadata": {
    "id": "eqPkCY_FEnzG"
   },
   "source": [
    "In the above examples the LSTM model performs worse than RNN model but clasification report tells us that the LSTM model is clearly better on the validation data."
   ]
  }
 ],
 "metadata": {
  "accelerator": "GPU",
  "colab": {
   "collapsed_sections": [],
   "name": "model_training.ipynb",
   "provenance": []
  },
  "kernelspec": {
   "display_name": "Python 3",
   "language": "python",
   "name": "python3"
  },
  "language_info": {
   "codemirror_mode": {
    "name": "ipython",
    "version": 3
   },
   "file_extension": ".py",
   "mimetype": "text/x-python",
   "name": "python",
   "nbconvert_exporter": "python",
   "pygments_lexer": "ipython3",
   "version": "3.7.7"
  }
 },
 "nbformat": 4,
 "nbformat_minor": 1
}
